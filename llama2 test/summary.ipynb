{
 "cells": [
  {
   "cell_type": "code",
   "execution_count": null,
   "metadata": {},
   "outputs": [],
   "source": [
    "import replicate\n"
   ]
  },
  {
   "cell_type": "code",
   "execution_count": null,
   "metadata": {},
   "outputs": [],
   "source": [
    "import os\n",
    "\n",
    "# Set the environment variable\n",
    "os.environ['REPLICATE_API_TOKEN'] = 'r8_DtDnsp6uJkjx04Mp2wehOrT48ykxPYz0fYewh'"
   ]
  },
  {
   "cell_type": "code",
   "execution_count": null,
   "metadata": {},
   "outputs": [],
   "source": [
    "pre_prompt='''\n",
    "\n",
    "'''                                                                                                                                                                                                                                                         000"
   ]
  },
  {
   "cell_type": "code",
   "execution_count": null,
   "metadata": {},
   "outputs": [],
   "source": [
    "prompt=''"
   ]
  },
  {
   "cell_type": "code",
   "execution_count": null,
   "metadata": {},
   "outputs": [],
   "source": [
    "output = \"\"\n",
    "# The meta/llama-2-7b model can stream output as it's running.\n",
    "for event in replicate.stream(\n",
    "    \"meta/llama-2-7b\",\n",
    "    input={\n",
    "        \"debug\": False,\n",
    "        \"temprature\": 0.01,\n",
    "        \"prompt\":f\"Instructions for Extractor: {pre_prompt} Conversation - Input: '{prompt}' Extractor\",\n",
    "        \"system_prompt\": f\"Strict instructions to be followed: {pre_prompt}\",\n",
    "        \"max_lenght\": 30,\n",
    "        \"return_logits\": False,\n",
    "        #\"min_new_tokens\": -1,\n",
    "        #\"repetition_penalty\": 1\n",
    "    },\n",
    "):\n",
    "    output += str(event)\n",
    "    print(str(event), end=\"\")"
   ]
  }
 ],
 "metadata": {
  "language_info": {
   "name": "python"
  }
 },
 "nbformat": 4,
 "nbformat_minor": 2
}
